{
 "cells": [
  {
   "cell_type": "code",
   "execution_count": null,
   "metadata": {},
   "outputs": [],
   "source": [
    "from matplotlib import pyplot as plt\n",
    "import numpy as np\n",
    "import pandas as pd"
   ]
  },
  {
   "cell_type": "code",
   "execution_count": null,
   "metadata": {},
   "outputs": [],
   "source": [
    "## Print summary stats of the read counts & visualize distribution for each column\n",
    "file_name = '../0-data/1-experimental/counts/agingeye/cts.txt'\n",
    "s = '\\t'\n",
    "counts_df = pd.read_csv(file_name, sep=s)\n",
    "counts_df.describe()"
   ]
  },
  {
   "cell_type": "code",
   "execution_count": null,
   "metadata": {},
   "outputs": [],
   "source": [
    "cts = ['Set2R1', 'Set2R2', 'Set2R3']\n",
    "for col in cts: \n",
    "    fig, ax = plt.subplots(figsize=(5,3)) # Creates a figure containing a single axes. Additional args passed to -> plt.figure()\n",
    "    ax.set_title(f'{col} Count Distribution')\n",
    "    ax.set_ylabel('Count')\n",
    "    ax.set_xlabel('Raw Count (RPKM)')\n",
    "    ax.plot(counts_df[col])\n",
    "    fig.tight_layout() # Adjusts whitespace btwn subplots to clean up"
   ]
  }
 ],
 "metadata": {
  "language_info": {
   "name": "python"
  }
 },
 "nbformat": 4,
 "nbformat_minor": 2
}
